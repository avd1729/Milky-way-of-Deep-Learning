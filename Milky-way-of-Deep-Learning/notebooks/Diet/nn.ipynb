{
 "cells": [
  {
   "cell_type": "code",
   "execution_count": 1,
   "metadata": {},
   "outputs": [],
   "source": [
    "import warnings\n",
    "warnings.filterwarnings('ignore')"
   ]
  },
  {
   "cell_type": "code",
   "execution_count": 2,
   "metadata": {},
   "outputs": [],
   "source": [
    "import numpy as np\n",
    "import pandas as pd\n",
    "import tensorflow as tf"
   ]
  },
  {
   "cell_type": "code",
   "execution_count": 3,
   "metadata": {},
   "outputs": [],
   "source": [
    "data = pd.read_excel('C:/Users/Aravind/PROJECTS/Milky-way-of-Deep-Learning/Milky-way-of-Deep-Learning/data/external/full_dataset.xlsx')"
   ]
  },
  {
   "cell_type": "code",
   "execution_count": 4,
   "metadata": {},
   "outputs": [],
   "source": [
    "from sklearn.preprocessing import OrdinalEncoder\n",
    "encoder = OrdinalEncoder()\n",
    "data[['Diet']] = encoder.fit_transform(data[['Diet']])"
   ]
  },
  {
   "cell_type": "code",
   "execution_count": 5,
   "metadata": {},
   "outputs": [],
   "source": [
    "X = data.drop(['Diet'] , axis=1)\n",
    "y = data['Diet']"
   ]
  },
  {
   "cell_type": "code",
   "execution_count": 6,
   "metadata": {},
   "outputs": [],
   "source": [
    "from sklearn.model_selection import train_test_split\n",
    "\n",
    "X_train_full, X_test, y_train_full, y_test = train_test_split(X, y, test_size=0.2, random_state=42)\n",
    "X_train, X_valid, y_train, y_valid = train_test_split(X_train_full, y_train_full, test_size=0.25, random_state=42)"
   ]
  },
  {
   "cell_type": "code",
   "execution_count": 7,
   "metadata": {},
   "outputs": [],
   "source": [
    "tf.random.set_seed(42)\n",
    "model1 = tf.keras.Sequential()\n",
    "model1.add(tf.keras.layers.Flatten())\n",
    "for layer in range(20):\n",
    "    model1.add(tf.keras.layers.Dense(50, activation=\"relu\",\n",
    "                                    kernel_initializer=\"he_normal\"))\n",
    "model1.add(tf.keras.layers.Dense(3, activation=\"softmax\"))"
   ]
  },
  {
   "cell_type": "code",
   "execution_count": 8,
   "metadata": {},
   "outputs": [],
   "source": [
    "model1.compile(loss=\"sparse_categorical_crossentropy\",\n",
    "              optimizer=tf.keras.optimizers.SGD(learning_rate=0.01),\n",
    "              metrics=[\"accuracy\"])"
   ]
  },
  {
   "cell_type": "code",
   "execution_count": 11,
   "metadata": {},
   "outputs": [
    {
     "name": "stdout",
     "output_type": "stream",
     "text": [
      "Epoch 1/20\n",
      "62/62 [==============================] - 0s 2ms/step - loss: 1.0994 - accuracy: 0.3298 - val_loss: 1.0988 - val_accuracy: 0.3359\n",
      "Epoch 2/20\n",
      "62/62 [==============================] - 0s 2ms/step - loss: 1.0992 - accuracy: 0.3170 - val_loss: 1.0982 - val_accuracy: 0.3389\n",
      "Epoch 3/20\n",
      "62/62 [==============================] - 0s 2ms/step - loss: 1.0988 - accuracy: 0.3237 - val_loss: 1.0981 - val_accuracy: 0.3405\n",
      "Epoch 4/20\n",
      "62/62 [==============================] - 0s 2ms/step - loss: 1.0990 - accuracy: 0.3415 - val_loss: 1.0990 - val_accuracy: 0.3130\n",
      "Epoch 5/20\n",
      "62/62 [==============================] - 0s 2ms/step - loss: 1.0988 - accuracy: 0.3288 - val_loss: 1.0988 - val_accuracy: 0.3282\n",
      "Epoch 6/20\n",
      "62/62 [==============================] - 0s 2ms/step - loss: 1.0991 - accuracy: 0.3379 - val_loss: 1.0991 - val_accuracy: 0.3115\n",
      "Epoch 7/20\n",
      "62/62 [==============================] - 0s 2ms/step - loss: 1.0988 - accuracy: 0.3425 - val_loss: 1.0992 - val_accuracy: 0.3115\n",
      "Epoch 8/20\n",
      "62/62 [==============================] - 0s 2ms/step - loss: 1.0988 - accuracy: 0.3323 - val_loss: 1.0990 - val_accuracy: 0.3435\n",
      "Epoch 9/20\n",
      "62/62 [==============================] - 0s 2ms/step - loss: 1.0988 - accuracy: 0.3206 - val_loss: 1.0984 - val_accuracy: 0.3298\n",
      "Epoch 10/20\n",
      "62/62 [==============================] - 0s 2ms/step - loss: 1.0990 - accuracy: 0.3338 - val_loss: 1.0984 - val_accuracy: 0.3573\n",
      "Epoch 11/20\n",
      "62/62 [==============================] - 0s 2ms/step - loss: 1.0986 - accuracy: 0.3313 - val_loss: 1.0981 - val_accuracy: 0.3573\n",
      "Epoch 12/20\n",
      "62/62 [==============================] - 0s 2ms/step - loss: 1.0990 - accuracy: 0.3308 - val_loss: 1.0987 - val_accuracy: 0.3313\n",
      "Epoch 13/20\n",
      "62/62 [==============================] - 0s 2ms/step - loss: 1.0988 - accuracy: 0.3374 - val_loss: 1.0983 - val_accuracy: 0.3573\n",
      "Epoch 14/20\n",
      "62/62 [==============================] - 0s 2ms/step - loss: 1.0986 - accuracy: 0.3415 - val_loss: 1.0999 - val_accuracy: 0.3573\n",
      "Epoch 15/20\n",
      "62/62 [==============================] - 0s 2ms/step - loss: 1.0988 - accuracy: 0.3232 - val_loss: 1.0985 - val_accuracy: 0.3557\n",
      "Epoch 16/20\n",
      "62/62 [==============================] - 0s 2ms/step - loss: 1.0989 - accuracy: 0.3262 - val_loss: 1.0983 - val_accuracy: 0.3588\n",
      "Epoch 17/20\n",
      "62/62 [==============================] - 0s 2ms/step - loss: 1.0991 - accuracy: 0.3288 - val_loss: 1.0993 - val_accuracy: 0.3221\n",
      "Epoch 18/20\n",
      "62/62 [==============================] - 0s 2ms/step - loss: 1.0989 - accuracy: 0.3323 - val_loss: 1.0990 - val_accuracy: 0.3130\n",
      "Epoch 19/20\n",
      "62/62 [==============================] - 0s 2ms/step - loss: 1.0987 - accuracy: 0.3364 - val_loss: 1.0976 - val_accuracy: 0.3588\n",
      "Epoch 20/20\n",
      "62/62 [==============================] - 0s 2ms/step - loss: 1.0991 - accuracy: 0.3435 - val_loss: 1.0996 - val_accuracy: 0.3099\n"
     ]
    }
   ],
   "source": [
    "history1 = model1.fit(X_train ,  y_train, epochs=20,\n",
    "                    validation_data=(X_valid, y_valid))"
   ]
  },
  {
   "cell_type": "code",
   "execution_count": 12,
   "metadata": {},
   "outputs": [
    {
     "name": "stdout",
     "output_type": "stream",
     "text": [
      "21/21 [==============================] - 0s 953us/step - loss: 1.0988 - accuracy: 0.3405\n"
     ]
    }
   ],
   "source": [
    "score = model1.evaluate(X_test, y_test)"
   ]
  }
 ],
 "metadata": {
  "kernelspec": {
   "display_name": "Python 3",
   "language": "python",
   "name": "python3"
  },
  "language_info": {
   "codemirror_mode": {
    "name": "ipython",
    "version": 3
   },
   "file_extension": ".py",
   "mimetype": "text/x-python",
   "name": "python",
   "nbconvert_exporter": "python",
   "pygments_lexer": "ipython3",
   "version": "3.11.5"
  }
 },
 "nbformat": 4,
 "nbformat_minor": 2
}
